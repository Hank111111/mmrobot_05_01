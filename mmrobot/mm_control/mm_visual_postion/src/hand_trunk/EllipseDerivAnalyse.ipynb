{
 "cells": [
  {
   "cell_type": "code",
   "execution_count": 2,
   "metadata": {},
   "outputs": [],
   "source": [
    "from sympy import *\n",
    "init_printing(use_unicode=True)"
   ]
  },
  {
   "cell_type": "code",
   "execution_count": 3,
   "metadata": {},
   "outputs": [],
   "source": [
    "import numpy as np\n",
    "def anglgeAxisToRotationMatrix(m_angle, m_axis):\n",
    "    res = np.zeros(3,3)\n",
    "    sin_axis  = sin(m_angle) * m_axis;\n",
    "    c = cos(m_angle);\n",
    "    cos1_axis = (1.0-c) * m_axis;\n",
    "\n",
    "    tmp = cos1_axis[0]* m_axis[1]\n",
    "    res[0,1] = tmp - sin_axis[2]\n",
    "    res[1,0] = tmp + sin_axis[2]\n",
    "\n",
    "    tmp = cos1_axis.x() * m_axis[2]\n",
    "    res[0,2] = tmp + sin_axis[1]\n",
    "    res[2,0] = tmp - sin_axis[1]\n",
    "\n",
    "    tmp = cos1_axis.y() * m_axis[2]\n",
    "    res[1,2] = tmp - sin_axis[1]\n",
    "    res[2,1] = tmp + sin_axis[1]\n",
    "\n",
    "    tmp = (cos1_axis * m_axis) + c\n",
    "    res[0,0] = tmp[0]\n",
    "    res[1,1] = tmp[1]\n",
    "    res[2,2] = tmp[2]\n",
    "    return res\n",
    "def eulerToTransform(alpha, beta, gamma):\n",
    "    c1 = cos(alpha)\n",
    "    s1 = sin(alpha)\n",
    "    c2 = cos(beta)\n",
    "    s2 = sin(beta)\n",
    "    c3 = cos(gamma)\n",
    "    s3 = sin(gamma)\n",
    "    M = [[c2*c3, -c2*s3, s2], [c1*s3 + c3*s1*s2, c1*c3 - s1*s2*s3, -c2*s1], [s1*s3-c1*c3*s2, c3*s1+c1*s2*s3, c1*c2]]\n",
    "    return M\n",
    "def paramToHomoTransform(x,y,z, alpha, beta, gamma):\n",
    "    c1 = cos(alpha)\n",
    "    s1 = sin(alpha)\n",
    "    c2 = cos(beta)\n",
    "    s2 = sin(beta)\n",
    "    c3 = cos(gamma)\n",
    "    s3 = sin(gamma)\n",
    "    M = [[c2*c3, -c2*s3, s2, x], \n",
    "         [c1*s3 + c3*s1*s2, c1*c3 - s1*s2*s3, -c2*s1, y], \n",
    "         [s1*s3-c1*c3*s2, c3*s1+c1*s2*s3, c1*c2, z],\n",
    "         [0.0, 0.0, 0.0, 1.0]]\n",
    "    return M"
   ]
  },
  {
   "cell_type": "code",
   "execution_count": 4,
   "metadata": {},
   "outputs": [
    {
     "name": "stdout",
     "output_type": "stream",
     "text": [
      "[[ 0.97517033 -0.0978434   0.19866933]\n",
      " [ 0.22027953  0.52091345 -0.82469759]\n",
      " [-0.02279831  0.8479834   0.52953223]]\n",
      "[[0.975170327201816, -0.0978433950072557, 0.198669330795061], [0.220279526593223, 0.520913445589612, -0.824697588433375], [-0.0227983137308199, 0.847983403291251, 0.529532231911920]]\n"
     ]
    }
   ],
   "source": [
    "from scipy.spatial.transform import Rotation as R \n",
    "r = R.from_euler('XYZ',[1.0,0.2,0.1])\n",
    "print(r.as_dcm())\n",
    "print(eulerToTransform(1.0,0.2,0.1))"
   ]
  },
  {
   "cell_type": "code",
   "execution_count": 5,
   "metadata": {},
   "outputs": [],
   "source": [
    "x, y, z, a, b, c, r = symbols('x y z a b c r')"
   ]
  },
  {
   "cell_type": "code",
   "execution_count": 6,
   "metadata": {},
   "outputs": [],
   "source": [
    "P = MatrixSymbol('P', 3, 4)\n",
    "T_init = MatrixSymbol('T_init', 4, 4)\n",
    "T = Matrix(paramToHomoTransform(x,y,z,a,b,c))\n",
    "Q = P * T * T_init"
   ]
  },
  {
   "cell_type": "code",
   "execution_count": 16,
   "metadata": {},
   "outputs": [
    {
     "name": "stdout",
     "output_type": "stream",
     "text": [
      "[ -sin(c)*cos(b) , -cos(b)*cos(c) , 0 , 0 ]\n",
      " [ -sin(a)*sin(b)*sin(c) + cos(a)*cos(c) , -sin(a)*sin(b)*cos(c) - sin(c)*cos(a) , 0 , 0 ]\n",
      " [ sin(a)*cos(c) + sin(b)*sin(c)*cos(a) , -sin(a)*sin(c) + sin(b)*cos(a)*cos(c) , 0 , 0 ]\n",
      " [ 0 , 0 , 0 , 0 ]\n"
     ]
    }
   ],
   "source": [
    "var=c\n",
    "print(\"[\",diff(paramToHomoTransform(x,y,z,a,b,c)[0][0], var),\",\",\n",
    "          diff(paramToHomoTransform(x,y,z,a,b,c)[0][1], var),\",\",\n",
    "          diff(paramToHomoTransform(x,y,z,a,b,c)[0][2], var),\",\",\n",
    "          diff(paramToHomoTransform(x,y,z,a,b,c)[0][3], var),\"]\\n\",\n",
    "      \"[\",diff(paramToHomoTransform(x,y,z,a,b,c)[1][0], var),\",\",\n",
    "          diff(paramToHomoTransform(x,y,z,a,b,c)[1][1], var),\",\",\n",
    "          diff(paramToHomoTransform(x,y,z,a,b,c)[1][2], var),\",\",\n",
    "          diff(paramToHomoTransform(x,y,z,a,b,c)[1][3], var),\"]\\n\",\n",
    "      \"[\",diff(paramToHomoTransform(x,y,z,a,b,c)[2][0], var),\",\",\n",
    "          diff(paramToHomoTransform(x,y,z,a,b,c)[2][1], var),\",\",\n",
    "          diff(paramToHomoTransform(x,y,z,a,b,c)[2][2], var),\",\",\n",
    "          diff(paramToHomoTransform(x,y,z,a,b,c)[2][3], var),\"]\\n\",\n",
    "      \"[\",diff(paramToHomoTransform(x,y,z,a,b,c)[3][0], var),\",\",\n",
    "          diff(paramToHomoTransform(x,y,z,a,b,c)[3][1], var),\",\",\n",
    "          diff(paramToHomoTransform(x,y,z,a,b,c)[3][2], var),\",\",\n",
    "          diff(paramToHomoTransform(x,y,z,a,b,c)[3][3], var),\"]\")"
   ]
  },
  {
   "cell_type": "code",
   "execution_count": 48,
   "metadata": {},
   "outputs": [],
   "source": [
    "M = Q*Matrix([[1, 0, 0], [0,1,0],[0,0,0],[0,0,1]])"
   ]
  },
  {
   "cell_type": "code",
   "execution_count": 49,
   "metadata": {},
   "outputs": [],
   "source": [
    "M_inv = M.inverse()"
   ]
  },
  {
   "cell_type": "code",
   "execution_count": 50,
   "metadata": {},
   "outputs": [
    {
     "data": {
      "text/latex": [
       "$\\displaystyle \\left(P \\left[\\begin{matrix}\\cos{\\left(b \\right)} \\cos{\\left(c \\right)} & - \\sin{\\left(c \\right)} \\cos{\\left(b \\right)} & \\sin{\\left(b \\right)} & x\\\\\\sin{\\left(a \\right)} \\sin{\\left(b \\right)} \\cos{\\left(c \\right)} + \\sin{\\left(c \\right)} \\cos{\\left(a \\right)} & - \\sin{\\left(a \\right)} \\sin{\\left(b \\right)} \\sin{\\left(c \\right)} + \\cos{\\left(a \\right)} \\cos{\\left(c \\right)} & - \\sin{\\left(a \\right)} \\cos{\\left(b \\right)} & y\\\\\\sin{\\left(a \\right)} \\sin{\\left(c \\right)} - \\sin{\\left(b \\right)} \\cos{\\left(a \\right)} \\cos{\\left(c \\right)} & \\sin{\\left(a \\right)} \\cos{\\left(c \\right)} + \\sin{\\left(b \\right)} \\sin{\\left(c \\right)} \\cos{\\left(a \\right)} & \\cos{\\left(a \\right)} \\cos{\\left(b \\right)} & z\\\\0.0 & 0.0 & 0.0 & 1.0\\end{matrix}\\right] T_{init} \\left[\\begin{matrix}1 & 0 & 0\\\\0 & 1 & 0\\\\0 & 0 & 0\\\\0 & 0 & 1\\end{matrix}\\right]\\right)^{-1}$"
      ],
      "text/plain": [
       "                                                                              \n",
       "⎛  ⎡           cos(b)⋅cos(c)                         -sin(c)⋅cos(b)           \n",
       "⎜  ⎢                                                                          \n",
       "⎜  ⎢sin(a)⋅sin(b)⋅cos(c) + sin(c)⋅cos(a)  -sin(a)⋅sin(b)⋅sin(c) + cos(a)⋅cos(c\n",
       "⎜P⋅⎢                                                                          \n",
       "⎜  ⎢sin(a)⋅sin(c) - sin(b)⋅cos(a)⋅cos(c)  sin(a)⋅cos(c) + sin(b)⋅sin(c)⋅cos(a)\n",
       "⎜  ⎢                                                                          \n",
       "⎝  ⎣                0.0                                    0.0                \n",
       "\n",
       "                                        -1\n",
       "       sin(b)       x ⎤       ⎡1  0  0⎤⎞  \n",
       "                      ⎥       ⎢       ⎥⎟  \n",
       ")  -sin(a)⋅cos(b)   y ⎥       ⎢0  1  0⎥⎟  \n",
       "                      ⎥⋅Tᵢₙᵢₜ⋅⎢       ⎥⎟  \n",
       "   cos(a)⋅cos(b)    z ⎥       ⎢0  0  0⎥⎟  \n",
       "                      ⎥       ⎢       ⎥⎟  \n",
       "        0.0        1.0⎦       ⎣0  0  1⎦⎠  "
      ]
     },
     "execution_count": 50,
     "metadata": {},
     "output_type": "execute_result"
    }
   ],
   "source": [
    "M_inv"
   ]
  },
  {
   "cell_type": "code",
   "execution_count": 51,
   "metadata": {},
   "outputs": [],
   "source": [
    "x_image, y_image = symbols(\"x_image y_image\")"
   ]
  },
  {
   "cell_type": "code",
   "execution_count": 52,
   "metadata": {},
   "outputs": [],
   "source": [
    "unnorm_p_plane = M_inv * Matrix([[x_image], [y_image], [1.0]])"
   ]
  },
  {
   "cell_type": "code",
   "execution_count": 53,
   "metadata": {},
   "outputs": [],
   "source": [
    "w_norm = (M_inv * Matrix([[x_image], [y_image], [1.0]]))[2,0]"
   ]
  },
  {
   "cell_type": "code",
   "execution_count": 54,
   "metadata": {},
   "outputs": [],
   "source": [
    "p_plane = unnorm_p_plane / w_norm"
   ]
  },
  {
   "cell_type": "code",
   "execution_count": 55,
   "metadata": {},
   "outputs": [],
   "source": [
    "res = p_plane[0,0] * p_plane[0,0]  / (r*r) + p_plane[1,0] * p_plane[1,0] / (r*r) - 1.0"
   ]
  },
  {
   "cell_type": "code",
   "execution_count": 64,
   "metadata": {},
   "outputs": [
    {
     "data": {
      "text/latex": [
       "$\\displaystyle -1.0 + \\frac{\\left(x_{image} \\left(\\left(P \\left[\\begin{matrix}\\cos{\\left(b \\right)} \\cos{\\left(c \\right)} & - \\sin{\\left(c \\right)} \\cos{\\left(b \\right)} & \\sin{\\left(b \\right)} & x\\\\\\sin{\\left(a \\right)} \\sin{\\left(b \\right)} \\cos{\\left(c \\right)} + \\sin{\\left(c \\right)} \\cos{\\left(a \\right)} & - \\sin{\\left(a \\right)} \\sin{\\left(b \\right)} \\sin{\\left(c \\right)} + \\cos{\\left(a \\right)} \\cos{\\left(c \\right)} & - \\sin{\\left(a \\right)} \\cos{\\left(b \\right)} & y\\\\\\sin{\\left(a \\right)} \\sin{\\left(c \\right)} - \\sin{\\left(b \\right)} \\cos{\\left(a \\right)} \\cos{\\left(c \\right)} & \\sin{\\left(a \\right)} \\cos{\\left(c \\right)} + \\sin{\\left(b \\right)} \\sin{\\left(c \\right)} \\cos{\\left(a \\right)} & \\cos{\\left(a \\right)} \\cos{\\left(b \\right)} & z\\\\0.0 & 0.0 & 0.0 & 1.0\\end{matrix}\\right] T_{init} \\left[\\begin{matrix}1 & 0 & 0\\\\0 & 1 & 0\\\\0 & 0 & 0\\\\0 & 0 & 1\\end{matrix}\\right]\\right)^{-1}\\right)_{0, 0} + y_{image} \\left(\\left(P \\left[\\begin{matrix}\\cos{\\left(b \\right)} \\cos{\\left(c \\right)} & - \\sin{\\left(c \\right)} \\cos{\\left(b \\right)} & \\sin{\\left(b \\right)} & x\\\\\\sin{\\left(a \\right)} \\sin{\\left(b \\right)} \\cos{\\left(c \\right)} + \\sin{\\left(c \\right)} \\cos{\\left(a \\right)} & - \\sin{\\left(a \\right)} \\sin{\\left(b \\right)} \\sin{\\left(c \\right)} + \\cos{\\left(a \\right)} \\cos{\\left(c \\right)} & - \\sin{\\left(a \\right)} \\cos{\\left(b \\right)} & y\\\\\\sin{\\left(a \\right)} \\sin{\\left(c \\right)} - \\sin{\\left(b \\right)} \\cos{\\left(a \\right)} \\cos{\\left(c \\right)} & \\sin{\\left(a \\right)} \\cos{\\left(c \\right)} + \\sin{\\left(b \\right)} \\sin{\\left(c \\right)} \\cos{\\left(a \\right)} & \\cos{\\left(a \\right)} \\cos{\\left(b \\right)} & z\\\\0.0 & 0.0 & 0.0 & 1.0\\end{matrix}\\right] T_{init} \\left[\\begin{matrix}1 & 0 & 0\\\\0 & 1 & 0\\\\0 & 0 & 0\\\\0 & 0 & 1\\end{matrix}\\right]\\right)^{-1}\\right)_{0, 1} + 1.0 \\left(\\left(P \\left[\\begin{matrix}\\cos{\\left(b \\right)} \\cos{\\left(c \\right)} & - \\sin{\\left(c \\right)} \\cos{\\left(b \\right)} & \\sin{\\left(b \\right)} & x\\\\\\sin{\\left(a \\right)} \\sin{\\left(b \\right)} \\cos{\\left(c \\right)} + \\sin{\\left(c \\right)} \\cos{\\left(a \\right)} & - \\sin{\\left(a \\right)} \\sin{\\left(b \\right)} \\sin{\\left(c \\right)} + \\cos{\\left(a \\right)} \\cos{\\left(c \\right)} & - \\sin{\\left(a \\right)} \\cos{\\left(b \\right)} & y\\\\\\sin{\\left(a \\right)} \\sin{\\left(c \\right)} - \\sin{\\left(b \\right)} \\cos{\\left(a \\right)} \\cos{\\left(c \\right)} & \\sin{\\left(a \\right)} \\cos{\\left(c \\right)} + \\sin{\\left(b \\right)} \\sin{\\left(c \\right)} \\cos{\\left(a \\right)} & \\cos{\\left(a \\right)} \\cos{\\left(b \\right)} & z\\\\0.0 & 0.0 & 0.0 & 1.0\\end{matrix}\\right] T_{init} \\left[\\begin{matrix}1 & 0 & 0\\\\0 & 1 & 0\\\\0 & 0 & 0\\\\0 & 0 & 1\\end{matrix}\\right]\\right)^{-1}\\right)_{0, 2}\\right)^{2}}{r^{2} \\left(x_{image} \\left(\\left(P \\left[\\begin{matrix}\\cos{\\left(b \\right)} \\cos{\\left(c \\right)} & - \\sin{\\left(c \\right)} \\cos{\\left(b \\right)} & \\sin{\\left(b \\right)} & x\\\\\\sin{\\left(a \\right)} \\sin{\\left(b \\right)} \\cos{\\left(c \\right)} + \\sin{\\left(c \\right)} \\cos{\\left(a \\right)} & - \\sin{\\left(a \\right)} \\sin{\\left(b \\right)} \\sin{\\left(c \\right)} + \\cos{\\left(a \\right)} \\cos{\\left(c \\right)} & - \\sin{\\left(a \\right)} \\cos{\\left(b \\right)} & y\\\\\\sin{\\left(a \\right)} \\sin{\\left(c \\right)} - \\sin{\\left(b \\right)} \\cos{\\left(a \\right)} \\cos{\\left(c \\right)} & \\sin{\\left(a \\right)} \\cos{\\left(c \\right)} + \\sin{\\left(b \\right)} \\sin{\\left(c \\right)} \\cos{\\left(a \\right)} & \\cos{\\left(a \\right)} \\cos{\\left(b \\right)} & z\\\\0.0 & 0.0 & 0.0 & 1.0\\end{matrix}\\right] T_{init} \\left[\\begin{matrix}1 & 0 & 0\\\\0 & 1 & 0\\\\0 & 0 & 0\\\\0 & 0 & 1\\end{matrix}\\right]\\right)^{-1}\\right)_{2, 0} + y_{image} \\left(\\left(P \\left[\\begin{matrix}\\cos{\\left(b \\right)} \\cos{\\left(c \\right)} & - \\sin{\\left(c \\right)} \\cos{\\left(b \\right)} & \\sin{\\left(b \\right)} & x\\\\\\sin{\\left(a \\right)} \\sin{\\left(b \\right)} \\cos{\\left(c \\right)} + \\sin{\\left(c \\right)} \\cos{\\left(a \\right)} & - \\sin{\\left(a \\right)} \\sin{\\left(b \\right)} \\sin{\\left(c \\right)} + \\cos{\\left(a \\right)} \\cos{\\left(c \\right)} & - \\sin{\\left(a \\right)} \\cos{\\left(b \\right)} & y\\\\\\sin{\\left(a \\right)} \\sin{\\left(c \\right)} - \\sin{\\left(b \\right)} \\cos{\\left(a \\right)} \\cos{\\left(c \\right)} & \\sin{\\left(a \\right)} \\cos{\\left(c \\right)} + \\sin{\\left(b \\right)} \\sin{\\left(c \\right)} \\cos{\\left(a \\right)} & \\cos{\\left(a \\right)} \\cos{\\left(b \\right)} & z\\\\0.0 & 0.0 & 0.0 & 1.0\\end{matrix}\\right] T_{init} \\left[\\begin{matrix}1 & 0 & 0\\\\0 & 1 & 0\\\\0 & 0 & 0\\\\0 & 0 & 1\\end{matrix}\\right]\\right)^{-1}\\right)_{2, 1} + 1.0 \\left(\\left(P \\left[\\begin{matrix}\\cos{\\left(b \\right)} \\cos{\\left(c \\right)} & - \\sin{\\left(c \\right)} \\cos{\\left(b \\right)} & \\sin{\\left(b \\right)} & x\\\\\\sin{\\left(a \\right)} \\sin{\\left(b \\right)} \\cos{\\left(c \\right)} + \\sin{\\left(c \\right)} \\cos{\\left(a \\right)} & - \\sin{\\left(a \\right)} \\sin{\\left(b \\right)} \\sin{\\left(c \\right)} + \\cos{\\left(a \\right)} \\cos{\\left(c \\right)} & - \\sin{\\left(a \\right)} \\cos{\\left(b \\right)} & y\\\\\\sin{\\left(a \\right)} \\sin{\\left(c \\right)} - \\sin{\\left(b \\right)} \\cos{\\left(a \\right)} \\cos{\\left(c \\right)} & \\sin{\\left(a \\right)} \\cos{\\left(c \\right)} + \\sin{\\left(b \\right)} \\sin{\\left(c \\right)} \\cos{\\left(a \\right)} & \\cos{\\left(a \\right)} \\cos{\\left(b \\right)} & z\\\\0.0 & 0.0 & 0.0 & 1.0\\end{matrix}\\right] T_{init} \\left[\\begin{matrix}1 & 0 & 0\\\\0 & 1 & 0\\\\0 & 0 & 0\\\\0 & 0 & 1\\end{matrix}\\right]\\right)^{-1}\\right)_{2, 2}\\right)^{2}} + \\frac{\\left(x_{image} \\left(\\left(P \\left[\\begin{matrix}\\cos{\\left(b \\right)} \\cos{\\left(c \\right)} & - \\sin{\\left(c \\right)} \\cos{\\left(b \\right)} & \\sin{\\left(b \\right)} & x\\\\\\sin{\\left(a \\right)} \\sin{\\left(b \\right)} \\cos{\\left(c \\right)} + \\sin{\\left(c \\right)} \\cos{\\left(a \\right)} & - \\sin{\\left(a \\right)} \\sin{\\left(b \\right)} \\sin{\\left(c \\right)} + \\cos{\\left(a \\right)} \\cos{\\left(c \\right)} & - \\sin{\\left(a \\right)} \\cos{\\left(b \\right)} & y\\\\\\sin{\\left(a \\right)} \\sin{\\left(c \\right)} - \\sin{\\left(b \\right)} \\cos{\\left(a \\right)} \\cos{\\left(c \\right)} & \\sin{\\left(a \\right)} \\cos{\\left(c \\right)} + \\sin{\\left(b \\right)} \\sin{\\left(c \\right)} \\cos{\\left(a \\right)} & \\cos{\\left(a \\right)} \\cos{\\left(b \\right)} & z\\\\0.0 & 0.0 & 0.0 & 1.0\\end{matrix}\\right] T_{init} \\left[\\begin{matrix}1 & 0 & 0\\\\0 & 1 & 0\\\\0 & 0 & 0\\\\0 & 0 & 1\\end{matrix}\\right]\\right)^{-1}\\right)_{1, 0} + y_{image} \\left(\\left(P \\left[\\begin{matrix}\\cos{\\left(b \\right)} \\cos{\\left(c \\right)} & - \\sin{\\left(c \\right)} \\cos{\\left(b \\right)} & \\sin{\\left(b \\right)} & x\\\\\\sin{\\left(a \\right)} \\sin{\\left(b \\right)} \\cos{\\left(c \\right)} + \\sin{\\left(c \\right)} \\cos{\\left(a \\right)} & - \\sin{\\left(a \\right)} \\sin{\\left(b \\right)} \\sin{\\left(c \\right)} + \\cos{\\left(a \\right)} \\cos{\\left(c \\right)} & - \\sin{\\left(a \\right)} \\cos{\\left(b \\right)} & y\\\\\\sin{\\left(a \\right)} \\sin{\\left(c \\right)} - \\sin{\\left(b \\right)} \\cos{\\left(a \\right)} \\cos{\\left(c \\right)} & \\sin{\\left(a \\right)} \\cos{\\left(c \\right)} + \\sin{\\left(b \\right)} \\sin{\\left(c \\right)} \\cos{\\left(a \\right)} & \\cos{\\left(a \\right)} \\cos{\\left(b \\right)} & z\\\\0.0 & 0.0 & 0.0 & 1.0\\end{matrix}\\right] T_{init} \\left[\\begin{matrix}1 & 0 & 0\\\\0 & 1 & 0\\\\0 & 0 & 0\\\\0 & 0 & 1\\end{matrix}\\right]\\right)^{-1}\\right)_{1, 1} + 1.0 \\left(\\left(P \\left[\\begin{matrix}\\cos{\\left(b \\right)} \\cos{\\left(c \\right)} & - \\sin{\\left(c \\right)} \\cos{\\left(b \\right)} & \\sin{\\left(b \\right)} & x\\\\\\sin{\\left(a \\right)} \\sin{\\left(b \\right)} \\cos{\\left(c \\right)} + \\sin{\\left(c \\right)} \\cos{\\left(a \\right)} & - \\sin{\\left(a \\right)} \\sin{\\left(b \\right)} \\sin{\\left(c \\right)} + \\cos{\\left(a \\right)} \\cos{\\left(c \\right)} & - \\sin{\\left(a \\right)} \\cos{\\left(b \\right)} & y\\\\\\sin{\\left(a \\right)} \\sin{\\left(c \\right)} - \\sin{\\left(b \\right)} \\cos{\\left(a \\right)} \\cos{\\left(c \\right)} & \\sin{\\left(a \\right)} \\cos{\\left(c \\right)} + \\sin{\\left(b \\right)} \\sin{\\left(c \\right)} \\cos{\\left(a \\right)} & \\cos{\\left(a \\right)} \\cos{\\left(b \\right)} & z\\\\0.0 & 0.0 & 0.0 & 1.0\\end{matrix}\\right] T_{init} \\left[\\begin{matrix}1 & 0 & 0\\\\0 & 1 & 0\\\\0 & 0 & 0\\\\0 & 0 & 1\\end{matrix}\\right]\\right)^{-1}\\right)_{1, 2}\\right)^{2}}{r^{2} \\left(x_{image} \\left(\\left(P \\left[\\begin{matrix}\\cos{\\left(b \\right)} \\cos{\\left(c \\right)} & - \\sin{\\left(c \\right)} \\cos{\\left(b \\right)} & \\sin{\\left(b \\right)} & x\\\\\\sin{\\left(a \\right)} \\sin{\\left(b \\right)} \\cos{\\left(c \\right)} + \\sin{\\left(c \\right)} \\cos{\\left(a \\right)} & - \\sin{\\left(a \\right)} \\sin{\\left(b \\right)} \\sin{\\left(c \\right)} + \\cos{\\left(a \\right)} \\cos{\\left(c \\right)} & - \\sin{\\left(a \\right)} \\cos{\\left(b \\right)} & y\\\\\\sin{\\left(a \\right)} \\sin{\\left(c \\right)} - \\sin{\\left(b \\right)} \\cos{\\left(a \\right)} \\cos{\\left(c \\right)} & \\sin{\\left(a \\right)} \\cos{\\left(c \\right)} + \\sin{\\left(b \\right)} \\sin{\\left(c \\right)} \\cos{\\left(a \\right)} & \\cos{\\left(a \\right)} \\cos{\\left(b \\right)} & z\\\\0.0 & 0.0 & 0.0 & 1.0\\end{matrix}\\right] T_{init} \\left[\\begin{matrix}1 & 0 & 0\\\\0 & 1 & 0\\\\0 & 0 & 0\\\\0 & 0 & 1\\end{matrix}\\right]\\right)^{-1}\\right)_{2, 0} + y_{image} \\left(\\left(P \\left[\\begin{matrix}\\cos{\\left(b \\right)} \\cos{\\left(c \\right)} & - \\sin{\\left(c \\right)} \\cos{\\left(b \\right)} & \\sin{\\left(b \\right)} & x\\\\\\sin{\\left(a \\right)} \\sin{\\left(b \\right)} \\cos{\\left(c \\right)} + \\sin{\\left(c \\right)} \\cos{\\left(a \\right)} & - \\sin{\\left(a \\right)} \\sin{\\left(b \\right)} \\sin{\\left(c \\right)} + \\cos{\\left(a \\right)} \\cos{\\left(c \\right)} & - \\sin{\\left(a \\right)} \\cos{\\left(b \\right)} & y\\\\\\sin{\\left(a \\right)} \\sin{\\left(c \\right)} - \\sin{\\left(b \\right)} \\cos{\\left(a \\right)} \\cos{\\left(c \\right)} & \\sin{\\left(a \\right)} \\cos{\\left(c \\right)} + \\sin{\\left(b \\right)} \\sin{\\left(c \\right)} \\cos{\\left(a \\right)} & \\cos{\\left(a \\right)} \\cos{\\left(b \\right)} & z\\\\0.0 & 0.0 & 0.0 & 1.0\\end{matrix}\\right] T_{init} \\left[\\begin{matrix}1 & 0 & 0\\\\0 & 1 & 0\\\\0 & 0 & 0\\\\0 & 0 & 1\\end{matrix}\\right]\\right)^{-1}\\right)_{2, 1} + 1.0 \\left(\\left(P \\left[\\begin{matrix}\\cos{\\left(b \\right)} \\cos{\\left(c \\right)} & - \\sin{\\left(c \\right)} \\cos{\\left(b \\right)} & \\sin{\\left(b \\right)} & x\\\\\\sin{\\left(a \\right)} \\sin{\\left(b \\right)} \\cos{\\left(c \\right)} + \\sin{\\left(c \\right)} \\cos{\\left(a \\right)} & - \\sin{\\left(a \\right)} \\sin{\\left(b \\right)} \\sin{\\left(c \\right)} + \\cos{\\left(a \\right)} \\cos{\\left(c \\right)} & - \\sin{\\left(a \\right)} \\cos{\\left(b \\right)} & y\\\\\\sin{\\left(a \\right)} \\sin{\\left(c \\right)} - \\sin{\\left(b \\right)} \\cos{\\left(a \\right)} \\cos{\\left(c \\right)} & \\sin{\\left(a \\right)} \\cos{\\left(c \\right)} + \\sin{\\left(b \\right)} \\sin{\\left(c \\right)} \\cos{\\left(a \\right)} & \\cos{\\left(a \\right)} \\cos{\\left(b \\right)} & z\\\\0.0 & 0.0 & 0.0 & 1.0\\end{matrix}\\right] T_{init} \\left[\\begin{matrix}1 & 0 & 0\\\\0 & 1 & 0\\\\0 & 0 & 0\\\\0 & 0 & 1\\end{matrix}\\right]\\right)^{-1}\\right)_{2, 2}\\right)^{2}}$"
      ],
      "text/plain": [
       "                                                                              \n",
       "        ⎛        ⎛                                                            \n",
       "        ⎜        ⎜⎛  ⎡           cos(b)⋅cos(c)                         -sin(c)\n",
       "        ⎜        ⎜⎜  ⎢                                                        \n",
       "        ⎜        ⎜⎜  ⎢sin(a)⋅sin(b)⋅cos(c) + sin(c)⋅cos(a)  -sin(a)⋅sin(b)⋅sin\n",
       "        ⎜x_image⋅⎜⎜P⋅⎢                                                        \n",
       "        ⎜        ⎜⎜  ⎢sin(a)⋅sin(c) - sin(b)⋅cos(a)⋅cos(c)  sin(a)⋅cos(c) + si\n",
       "        ⎜        ⎜⎜  ⎢                                                        \n",
       "        ⎝        ⎝⎝  ⎣                0.0                                    0\n",
       "-1.0 + ───────────────────────────────────────────────────────────────────────\n",
       "                                                                              \n",
       "          ⎛        ⎛                                                          \n",
       "          ⎜        ⎜⎛  ⎡           cos(b)⋅cos(c)                         -sin(\n",
       "          ⎜        ⎜⎜  ⎢                                                      \n",
       "        2 ⎜        ⎜⎜  ⎢sin(a)⋅sin(b)⋅cos(c) + sin(c)⋅cos(a)  -sin(a)⋅sin(b)⋅s\n",
       "       r ⋅⎜x_image⋅⎜⎜P⋅⎢                                                      \n",
       "          ⎜        ⎜⎜  ⎢sin(a)⋅sin(c) - sin(b)⋅cos(a)⋅cos(c)  sin(a)⋅cos(c) + \n",
       "          ⎜        ⎜⎜  ⎢                                                      \n",
       "          ⎝        ⎝⎝  ⎣                0.0                                   \n",
       "\n",
       "                                                                              \n",
       "                                                          -1⎞                 \n",
       "⋅cos(b)                  sin(b)       x ⎤       ⎡1  0  0⎤⎞  ⎟                 \n",
       "                                        ⎥       ⎢       ⎥⎟  ⎟                 \n",
       "(c) + cos(a)⋅cos(c)  -sin(a)⋅cos(b)   y ⎥       ⎢0  1  0⎥⎟  ⎟                 \n",
       "                                        ⎥⋅Tᵢₙᵢₜ⋅⎢       ⎥⎟  ⎟[0, 0] + y_image⋅\n",
       "n(b)⋅sin(c)⋅cos(a)   cos(a)⋅cos(b)    z ⎥       ⎢0  0  0⎥⎟  ⎟                 \n",
       "                                        ⎥       ⎢       ⎥⎟  ⎟                 \n",
       ".0                        0.0        1.0⎦       ⎣0  0  1⎦⎠  ⎠                 \n",
       "──────────────────────────────────────────────────────────────────────────────\n",
       "                                                                              \n",
       "                                                            -1⎞               \n",
       "c)⋅cos(b)                  sin(b)       x ⎤       ⎡1  0  0⎤⎞  ⎟               \n",
       "                                          ⎥       ⎢       ⎥⎟  ⎟               \n",
       "in(c) + cos(a)⋅cos(c)  -sin(a)⋅cos(b)   y ⎥       ⎢0  1  0⎥⎟  ⎟               \n",
       "                                          ⎥⋅Tᵢₙᵢₜ⋅⎢       ⎥⎟  ⎟[2, 0] + y_imag\n",
       "sin(b)⋅sin(c)⋅cos(a)   cos(a)⋅cos(b)    z ⎥       ⎢0  0  0⎥⎟  ⎟               \n",
       "                                          ⎥       ⎢       ⎥⎟  ⎟               \n",
       " 0.0                        0.0        1.0⎦       ⎣0  0  1⎦⎠  ⎠               \n",
       "\n",
       "                                                                              \n",
       "⎛                                                                             \n",
       "⎜⎛  ⎡           cos(b)⋅cos(c)                         -sin(c)⋅cos(b)          \n",
       "⎜⎜  ⎢                                                                         \n",
       "⎜⎜  ⎢sin(a)⋅sin(b)⋅cos(c) + sin(c)⋅cos(a)  -sin(a)⋅sin(b)⋅sin(c) + cos(a)⋅cos(\n",
       "⎜⎜P⋅⎢                                                                         \n",
       "⎜⎜  ⎢sin(a)⋅sin(c) - sin(b)⋅cos(a)⋅cos(c)  sin(a)⋅cos(c) + sin(b)⋅sin(c)⋅cos(a\n",
       "⎜⎜  ⎢                                                                         \n",
       "⎝⎝  ⎣                0.0                                    0.0               \n",
       "──────────────────────────────────────────────────────────────────────────────\n",
       "                                                                              \n",
       "  ⎛                                                                           \n",
       "  ⎜⎛  ⎡           cos(b)⋅cos(c)                         -sin(c)⋅cos(b)        \n",
       "  ⎜⎜  ⎢                                                                       \n",
       "  ⎜⎜  ⎢sin(a)⋅sin(b)⋅cos(c) + sin(c)⋅cos(a)  -sin(a)⋅sin(b)⋅sin(c) + cos(a)⋅co\n",
       "e⋅⎜⎜P⋅⎢                                                                       \n",
       "  ⎜⎜  ⎢sin(a)⋅sin(c) - sin(b)⋅cos(a)⋅cos(c)  sin(a)⋅cos(c) + sin(b)⋅sin(c)⋅cos\n",
       "  ⎜⎜  ⎢                                                                       \n",
       "  ⎝⎝  ⎣                0.0                                    0.0             \n",
       "\n",
       "                                                                              \n",
       "                                         -1⎞             ⎛                    \n",
       "        sin(b)       x ⎤       ⎡1  0  0⎤⎞  ⎟             ⎜⎛  ⎡           cos(b\n",
       "                       ⎥       ⎢       ⎥⎟  ⎟             ⎜⎜  ⎢                \n",
       "c)  -sin(a)⋅cos(b)   y ⎥       ⎢0  1  0⎥⎟  ⎟             ⎜⎜  ⎢sin(a)⋅sin(b)⋅co\n",
       "                       ⎥⋅Tᵢₙᵢₜ⋅⎢       ⎥⎟  ⎟[0, 1] + 1.0⋅⎜⎜P⋅⎢                \n",
       ")   cos(a)⋅cos(b)    z ⎥       ⎢0  0  0⎥⎟  ⎟             ⎜⎜  ⎢sin(a)⋅sin(c) - \n",
       "                       ⎥       ⎢       ⎥⎟  ⎟             ⎜⎜  ⎢                \n",
       "         0.0        1.0⎦       ⎣0  0  1⎦⎠  ⎠             ⎝⎝  ⎣                \n",
       "──────────────────────────────────────────────────────────────────────────────\n",
       "                                                                              \n",
       "                                           -1⎞             ⎛                  \n",
       "          sin(b)       x ⎤       ⎡1  0  0⎤⎞  ⎟             ⎜⎛  ⎡           cos\n",
       "                         ⎥       ⎢       ⎥⎟  ⎟             ⎜⎜  ⎢              \n",
       "s(c)  -sin(a)⋅cos(b)   y ⎥       ⎢0  1  0⎥⎟  ⎟             ⎜⎜  ⎢sin(a)⋅sin(b)⋅\n",
       "                         ⎥⋅Tᵢₙᵢₜ⋅⎢       ⎥⎟  ⎟[2, 1] + 1.0⋅⎜⎜P⋅⎢              \n",
       "(a)   cos(a)⋅cos(b)    z ⎥       ⎢0  0  0⎥⎟  ⎟             ⎜⎜  ⎢sin(a)⋅sin(c) \n",
       "                         ⎥       ⎢       ⎥⎟  ⎟             ⎜⎜  ⎢              \n",
       "           0.0        1.0⎦       ⎣0  0  1⎦⎠  ⎠             ⎝⎝  ⎣              \n",
       "\n",
       "                                                                              \n",
       "                                                                              \n",
       ")⋅cos(c)                         -sin(c)⋅cos(b)                  sin(b)       \n",
       "                                                                              \n",
       "s(c) + sin(c)⋅cos(a)  -sin(a)⋅sin(b)⋅sin(c) + cos(a)⋅cos(c)  -sin(a)⋅cos(b)   \n",
       "                                                                              \n",
       "sin(b)⋅cos(a)⋅cos(c)  sin(a)⋅cos(c) + sin(b)⋅sin(c)⋅cos(a)   cos(a)⋅cos(b)    \n",
       "                                                                              \n",
       "0.0                                    0.0                        0.0        1\n",
       "──────────────────────────────────────────────────────────────────────────────\n",
       "                                                                              \n",
       "                                                                              \n",
       "(b)⋅cos(c)                         -sin(c)⋅cos(b)                  sin(b)     \n",
       "                                                                              \n",
       "cos(c) + sin(c)⋅cos(a)  -sin(a)⋅sin(b)⋅sin(c) + cos(a)⋅cos(c)  -sin(a)⋅cos(b) \n",
       "                                                                              \n",
       "- sin(b)⋅cos(a)⋅cos(c)  sin(a)⋅cos(c) + sin(b)⋅sin(c)⋅cos(a)   cos(a)⋅cos(b)  \n",
       "                                                                              \n",
       "  0.0                                    0.0                        0.0       \n",
       "\n",
       "                              2                                               \n",
       "                    -1⎞      ⎞       ⎛        ⎛                               \n",
       "x ⎤       ⎡1  0  0⎤⎞  ⎟      ⎟       ⎜        ⎜⎛  ⎡           cos(b)⋅cos(c)   \n",
       "  ⎥       ⎢       ⎥⎟  ⎟      ⎟       ⎜        ⎜⎜  ⎢                           \n",
       "y ⎥       ⎢0  1  0⎥⎟  ⎟      ⎟       ⎜        ⎜⎜  ⎢sin(a)⋅sin(b)⋅cos(c) + sin(\n",
       "  ⎥⋅Tᵢₙᵢₜ⋅⎢       ⎥⎟  ⎟[0, 2]⎟       ⎜x_image⋅⎜⎜P⋅⎢                           \n",
       "z ⎥       ⎢0  0  0⎥⎟  ⎟      ⎟       ⎜        ⎜⎜  ⎢sin(a)⋅sin(c) - sin(b)⋅cos(\n",
       "  ⎥       ⎢       ⎥⎟  ⎟      ⎟       ⎜        ⎜⎜  ⎢                           \n",
       ".0⎦       ⎣0  0  1⎦⎠  ⎠      ⎠       ⎝        ⎝⎝  ⎣                0.0        \n",
       "───────────────────────────────── + ──────────────────────────────────────────\n",
       "                                2                                             \n",
       "                      -1⎞      ⎞       ⎛        ⎛                             \n",
       "  x ⎤       ⎡1  0  0⎤⎞  ⎟      ⎟       ⎜        ⎜⎛  ⎡           cos(b)⋅cos(c) \n",
       "    ⎥       ⎢       ⎥⎟  ⎟      ⎟       ⎜        ⎜⎜  ⎢                         \n",
       "  y ⎥       ⎢0  1  0⎥⎟  ⎟      ⎟     2 ⎜        ⎜⎜  ⎢sin(a)⋅sin(b)⋅cos(c) + si\n",
       "    ⎥⋅Tᵢₙᵢₜ⋅⎢       ⎥⎟  ⎟[2, 2]⎟    r ⋅⎜x_image⋅⎜⎜P⋅⎢                         \n",
       "  z ⎥       ⎢0  0  0⎥⎟  ⎟      ⎟       ⎜        ⎜⎜  ⎢sin(a)⋅sin(c) - sin(b)⋅co\n",
       "    ⎥       ⎢       ⎥⎟  ⎟      ⎟       ⎜        ⎜⎜  ⎢                         \n",
       " 1.0⎦       ⎣0  0  1⎦⎠  ⎠      ⎠       ⎝        ⎝⎝  ⎣                0.0      \n",
       "\n",
       "                                                                              \n",
       "                                                                              \n",
       "                      -sin(c)⋅cos(b)                  sin(b)       x ⎤       ⎡\n",
       "                                                                     ⎥       ⎢\n",
       "c)⋅cos(a)  -sin(a)⋅sin(b)⋅sin(c) + cos(a)⋅cos(c)  -sin(a)⋅cos(b)   y ⎥       ⎢\n",
       "                                                                     ⎥⋅Tᵢₙᵢₜ⋅⎢\n",
       "a)⋅cos(c)  sin(a)⋅cos(c) + sin(b)⋅sin(c)⋅cos(a)   cos(a)⋅cos(b)    z ⎥       ⎢\n",
       "                                                                     ⎥       ⎢\n",
       "                            0.0                        0.0        1.0⎦       ⎣\n",
       "──────────────────────────────────────────────────────────────────────────────\n",
       "                                                                              \n",
       "                                                                              \n",
       "                        -sin(c)⋅cos(b)                  sin(b)       x ⎤      \n",
       "                                                                       ⎥      \n",
       "n(c)⋅cos(a)  -sin(a)⋅sin(b)⋅sin(c) + cos(a)⋅cos(c)  -sin(a)⋅cos(b)   y ⎥      \n",
       "                                                                       ⎥⋅Tᵢₙᵢₜ\n",
       "s(a)⋅cos(c)  sin(a)⋅cos(c) + sin(b)⋅sin(c)⋅cos(a)   cos(a)⋅cos(b)    z ⎥      \n",
       "                                                                       ⎥      \n",
       "                              0.0                        0.0        1.0⎦      \n",
       "\n",
       "                                                                              \n",
       "         -1⎞                 ⎛                                                \n",
       "1  0  0⎤⎞  ⎟                 ⎜⎛  ⎡           cos(b)⋅cos(c)                    \n",
       "       ⎥⎟  ⎟                 ⎜⎜  ⎢                                            \n",
       "0  1  0⎥⎟  ⎟                 ⎜⎜  ⎢sin(a)⋅sin(b)⋅cos(c) + sin(c)⋅cos(a)  -sin(a\n",
       "       ⎥⎟  ⎟[1, 0] + y_image⋅⎜⎜P⋅⎢                                            \n",
       "0  0  0⎥⎟  ⎟                 ⎜⎜  ⎢sin(a)⋅sin(c) - sin(b)⋅cos(a)⋅cos(c)  sin(a)\n",
       "       ⎥⎟  ⎟                 ⎜⎜  ⎢                                            \n",
       "0  0  1⎦⎠  ⎠                 ⎝⎝  ⎣                0.0                         \n",
       "──────────────────────────────────────────────────────────────────────────────\n",
       "                                                                              \n",
       "           -1⎞                 ⎛                                              \n",
       " ⎡1  0  0⎤⎞  ⎟                 ⎜⎛  ⎡           cos(b)⋅cos(c)                  \n",
       " ⎢       ⎥⎟  ⎟                 ⎜⎜  ⎢                                          \n",
       " ⎢0  1  0⎥⎟  ⎟                 ⎜⎜  ⎢sin(a)⋅sin(b)⋅cos(c) + sin(c)⋅cos(a)  -sin\n",
       "⋅⎢       ⎥⎟  ⎟[2, 0] + y_image⋅⎜⎜P⋅⎢                                          \n",
       " ⎢0  0  0⎥⎟  ⎟                 ⎜⎜  ⎢sin(a)⋅sin(c) - sin(b)⋅cos(a)⋅cos(c)  sin(\n",
       " ⎢       ⎥⎟  ⎟                 ⎜⎜  ⎢                                          \n",
       " ⎣0  0  1⎦⎠  ⎠                 ⎝⎝  ⎣                0.0                       \n",
       "\n",
       "                                                                              \n",
       "                                                                      -1⎞     \n",
       "     -sin(c)⋅cos(b)                  sin(b)       x ⎤       ⎡1  0  0⎤⎞  ⎟     \n",
       "                                                    ⎥       ⎢       ⎥⎟  ⎟     \n",
       ")⋅sin(b)⋅sin(c) + cos(a)⋅cos(c)  -sin(a)⋅cos(b)   y ⎥       ⎢0  1  0⎥⎟  ⎟     \n",
       "                                                    ⎥⋅Tᵢₙᵢₜ⋅⎢       ⎥⎟  ⎟[1, 1\n",
       "⋅cos(c) + sin(b)⋅sin(c)⋅cos(a)   cos(a)⋅cos(b)    z ⎥       ⎢0  0  0⎥⎟  ⎟     \n",
       "                                                    ⎥       ⎢       ⎥⎟  ⎟     \n",
       "           0.0                        0.0        1.0⎦       ⎣0  0  1⎦⎠  ⎠     \n",
       "──────────────────────────────────────────────────────────────────────────────\n",
       "                                                                              \n",
       "                                                                        -1⎞   \n",
       "       -sin(c)⋅cos(b)                  sin(b)       x ⎤       ⎡1  0  0⎤⎞  ⎟   \n",
       "                                                      ⎥       ⎢       ⎥⎟  ⎟   \n",
       "(a)⋅sin(b)⋅sin(c) + cos(a)⋅cos(c)  -sin(a)⋅cos(b)   y ⎥       ⎢0  1  0⎥⎟  ⎟   \n",
       "                                                      ⎥⋅Tᵢₙᵢₜ⋅⎢       ⎥⎟  ⎟[2,\n",
       "a)⋅cos(c) + sin(b)⋅sin(c)⋅cos(a)   cos(a)⋅cos(b)    z ⎥       ⎢0  0  0⎥⎟  ⎟   \n",
       "                                                      ⎥       ⎢       ⎥⎟  ⎟   \n",
       "             0.0                        0.0        1.0⎦       ⎣0  0  1⎦⎠  ⎠   \n",
       "\n",
       "                                                                              \n",
       "        ⎛                                                                     \n",
       "        ⎜⎛  ⎡           cos(b)⋅cos(c)                         -sin(c)⋅cos(b)  \n",
       "        ⎜⎜  ⎢                                                                 \n",
       "        ⎜⎜  ⎢sin(a)⋅sin(b)⋅cos(c) + sin(c)⋅cos(a)  -sin(a)⋅sin(b)⋅sin(c) + cos\n",
       "] + 1.0⋅⎜⎜P⋅⎢                                                                 \n",
       "        ⎜⎜  ⎢sin(a)⋅sin(c) - sin(b)⋅cos(a)⋅cos(c)  sin(a)⋅cos(c) + sin(b)⋅sin(\n",
       "        ⎜⎜  ⎢                                                                 \n",
       "        ⎝⎝  ⎣                0.0                                    0.0       \n",
       "──────────────────────────────────────────────────────────────────────────────\n",
       "                                                                              \n",
       "          ⎛                                                                   \n",
       "          ⎜⎛  ⎡           cos(b)⋅cos(c)                         -sin(c)⋅cos(b)\n",
       "          ⎜⎜  ⎢                                                               \n",
       "          ⎜⎜  ⎢sin(a)⋅sin(b)⋅cos(c) + sin(c)⋅cos(a)  -sin(a)⋅sin(b)⋅sin(c) + c\n",
       " 1] + 1.0⋅⎜⎜P⋅⎢                                                               \n",
       "          ⎜⎜  ⎢sin(a)⋅sin(c) - sin(b)⋅cos(a)⋅cos(c)  sin(a)⋅cos(c) + sin(b)⋅si\n",
       "          ⎜⎜  ⎢                                                               \n",
       "          ⎝⎝  ⎣                0.0                                    0.0     \n",
       "\n",
       "                                                           2  \n",
       "                                                 -1⎞      ⎞   \n",
       "                sin(b)       x ⎤       ⎡1  0  0⎤⎞  ⎟      ⎟   \n",
       "                               ⎥       ⎢       ⎥⎟  ⎟      ⎟   \n",
       "(a)⋅cos(c)  -sin(a)⋅cos(b)   y ⎥       ⎢0  1  0⎥⎟  ⎟      ⎟   \n",
       "                               ⎥⋅Tᵢₙᵢₜ⋅⎢       ⎥⎟  ⎟[1, 2]⎟   \n",
       "c)⋅cos(a)   cos(a)⋅cos(b)    z ⎥       ⎢0  0  0⎥⎟  ⎟      ⎟   \n",
       "                               ⎥       ⎢       ⎥⎟  ⎟      ⎟   \n",
       "                 0.0        1.0⎦       ⎣0  0  1⎦⎠  ⎠      ⎠   \n",
       "──────────────────────────────────────────────────────────────\n",
       "                                                             2\n",
       "                                                   -1⎞      ⎞ \n",
       "                  sin(b)       x ⎤       ⎡1  0  0⎤⎞  ⎟      ⎟ \n",
       "                                 ⎥       ⎢       ⎥⎟  ⎟      ⎟ \n",
       "os(a)⋅cos(c)  -sin(a)⋅cos(b)   y ⎥       ⎢0  1  0⎥⎟  ⎟      ⎟ \n",
       "                                 ⎥⋅Tᵢₙᵢₜ⋅⎢       ⎥⎟  ⎟[2, 2]⎟ \n",
       "n(c)⋅cos(a)   cos(a)⋅cos(b)    z ⎥       ⎢0  0  0⎥⎟  ⎟      ⎟ \n",
       "                                 ⎥       ⎢       ⎥⎟  ⎟      ⎟ \n",
       "                   0.0        1.0⎦       ⎣0  0  1⎦⎠  ⎠      ⎠ "
      ]
     },
     "execution_count": 64,
     "metadata": {},
     "output_type": "execute_result"
    }
   ],
   "source": []
  },
  {
   "cell_type": "code",
   "execution_count": 62,
   "metadata": {},
   "outputs": [
    {
     "data": {
      "image/png": "[encoded data removed]",
      "text/latex": [
       "$\\displaystyle 0$"
      ],
      "text/plain": [
       "0"
      ]
     },
     "execution_count": 62,
     "metadata": {},
     "output_type": "execute_result"
    }
   ],
   "source": [
    "sympify(res).diff(y)"
   ]
  },
  {
   "cell_type": "code",
   "execution_count": null,
   "metadata": {},
   "outputs": [],
   "source": []
  }
 ],
 "metadata": {
  "kernelspec": {
   "display_name": "Python 3",
   "language": "python",
   "name": "python3"
  },
  "language_info": {
   "codemirror_mode": {
    "name": "ipython",
    "version": 3
   },
   "file_extension": ".py",
   "mimetype": "text/x-python",
   "name": "python",
   "nbconvert_exporter": "python",
   "pygments_lexer": "ipython3",
   "version": "3.5.2"
  }
 },
 "nbformat": 4,
 "nbformat_minor": 2
}
